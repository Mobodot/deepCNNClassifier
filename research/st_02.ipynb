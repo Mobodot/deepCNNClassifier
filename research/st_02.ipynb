{
 "cells": [
  {
   "cell_type": "code",
   "execution_count": 1,
   "metadata": {},
   "outputs": [
    {
     "data": {
      "text/plain": [
       "'/home/mobo/Documents/Ineuron/Live_Class/DL/DL_live_notes/CNN/deepCNNClassifier'"
      ]
     },
     "execution_count": 1,
     "metadata": {},
     "output_type": "execute_result"
    }
   ],
   "source": [
    "import os\n",
    "\n",
    "os.getcwd()\n",
    "os.chdir(\"../\")\n",
    "os.getcwd()"
   ]
  },
  {
   "cell_type": "code",
   "execution_count": 2,
   "metadata": {},
   "outputs": [],
   "source": [
    "\n",
    "\n",
    "from dataclasses import dataclass\n",
    "from pathlib import Path\n",
    "\n",
    "\n",
    "@dataclass(frozen=True)\n",
    "class PrepareBaseModelConfig:\n",
    "    root_dir: Path\n",
    "    base_model_path: Path\n",
    "    updated_base_model_path: Path\n",
    "    params_image_size: list\n",
    "    params_include_top: bool\n",
    "    params_weights: str\n",
    "    params_classes: int\n",
    "    params_learning_rate: float"
   ]
  },
  {
   "cell_type": "code",
   "execution_count": 3,
   "metadata": {},
   "outputs": [],
   "source": [
    "from deepClassifier.constants import CONFIG_FILE_PATH, PARAMS_FILE_PATH\n",
    "from deepClassifier.utils import read_yaml, create_directories\n",
    "\n",
    "class ConfigurationManager:\n",
    "    \n",
    "    def __init__(\n",
    "        self, \n",
    "        config_filepath: Path=CONFIG_FILE_PATH, \n",
    "        params_filepath: Path=PARAMS_FILE_PATH):\n",
    "        \n",
    "        self.config = read_yaml(config_filepath)\n",
    "        self.params = read_yaml(params_filepath)\n",
    "        \n",
    "        create_directories([self.config.artifacts_root])\n",
    "        \n",
    "    def get_prepare_base_model(self) -> PrepareBaseModelConfig:\n",
    "        config = self.config.prepare_base_model\n",
    "        \n",
    "        create_directories([config.root_dir])\n",
    "        \n",
    "        return PrepareBaseModelConfig(\n",
    "            root_dir=Path(config.root_dir),\n",
    "            base_model_path=Path(config.base_model_path),\n",
    "            updated_base_model_path=Path(config.updated_base_model_path),\n",
    "            params_image_size=self.params.IMAGE_SIZE,\n",
    "            params_include_top=self.params.INCLUDE_TOP,\n",
    "            params_weights=self.params.WEIGHTS,\n",
    "            params_classes=self.params.CLASSES,\n",
    "            params_learning_rate=self.params.LEARNING_RATE\n",
    "        )\n",
    "    \n",
    "    "
   ]
  },
  {
   "cell_type": "code",
   "execution_count": 4,
   "metadata": {},
   "outputs": [
    {
     "name": "stdout",
     "output_type": "stream",
     "text": [
      "[2022-09-23 15:55:57,057: INFO: common]: yaml file: configs/config.yaml loaded successfully\n",
      "[2022-09-23 15:55:57,062: INFO: common]: yaml file: params.yaml loaded successfully\n",
      "[2022-09-23 15:55:57,064: INFO: common]: created directory at: artifacts\n",
      "{'artifacts_root': 'artifacts', 'data_ingestion': {'root_dir': 'artifacts/data_ingestion', 'source_url': 'https://download.microsoft.com/download/3/E/1/3E1C3F21-ECDB-4869-8368-6DEBA77B919F/kagglecatsanddogs_5340.zip', 'local_data_file': 'artifacts/data_ingestion/data.zip', 'unzipped_dir': 'artifacts/data_ingestion'}, 'prepare_base_model': {'root_dir': 'artifacts/prepare_base_model', 'base_model_path': 'artifacts/prepare_base_model/base_model.h5', 'updated_base_model_path': 'artifacts/prepare_base_model/base_model_updated.h5'}, 'prepare_callbacks': {'root_dir': 'artifacts/prepare_callbacks', 'tensorboard_root_log_dir': 'artifacts/prepare_callbacks/tensorboard_log_dir', 'checkpoint_model_filepath': 'artifacts/prepare_callbacks/checkpoint_dir/model.h5'}, 'training': {'root_dir': 'artifacts/training', 'trained_model_path': 'artifacts/training/model.h5'}} {'IMAGE_SIZE': [224, 224, 3], 'INCLUDE_TOP': False, 'WEIGHTS': 'imagenet', 'CLASSES': 2, 'LEARNING_RATE': 0.01, 'AUGUMENTATION': True, 'EPOCHS': 1, 'BATCH_SIZE': 16} \n",
      "\n",
      "\n",
      "[2022-09-23 15:55:57,066: INFO: common]: created directory at: artifacts/prepare_base_model\n"
     ]
    },
    {
     "data": {
      "text/plain": [
       "PrepareBaseModelConfig(root_dir=PosixPath('artifacts/prepare_base_model'), base_model_path=PosixPath('artifacts/prepare_base_model/base_model.h5'), updated_base_model_path=PosixPath('artifacts/prepare_base_model/base_model_updated.h5'), params_image_size=BoxList([224, 224, 3]), params_include_top=False, params_weights='imagenet', params_classes=2, params_learning_rate=0.01)"
      ]
     },
     "execution_count": 4,
     "metadata": {},
     "output_type": "execute_result"
    }
   ],
   "source": [
    "config = ConfigurationManager()\n",
    "print(config.config, config.params, \"\\n\\n\")\n",
    "config.get_prepare_base_model()"
   ]
  },
  {
   "cell_type": "code",
   "execution_count": 6,
   "metadata": {},
   "outputs": [],
   "source": [
    "from deepClassifier.constants import PARAMS_FILE_PATH\n",
    "import tensorflow as tf\n",
    "\n",
    "class PrepareBaseModel:\n",
    "    def __init__(\n",
    "        self, \n",
    "        prepare_base_model_config: PrepareBaseModelConfig):\n",
    "            self.config = prepare_base_model_config\n",
    "            \n",
    "    def get_base_model(self):\n",
    "        self.model = tf.keras.applications.vgg16.VGG16(\n",
    "            include_top=self.config.params_include_top,\n",
    "            weights=self.config.params_weights,\n",
    "            input_shape=self.config.params_image_size,\n",
    "        )\n",
    "        \n",
    "        self.save_model(\n",
    "            path=self.config.base_model_path,\n",
    "            model=self.model)\n",
    "        \n",
    "    @staticmethod\n",
    "    def _prepare_full_model(\n",
    "        model,\n",
    "        classes,\n",
    "        freeze_all,\n",
    "        freeze_till,\n",
    "        learning_rate\n",
    "        ):\n",
    "            if freeze_all:\n",
    "                for layer in model.layers:\n",
    "                    model.trainable = False\n",
    "            elif (freeze_till is not None) and (freeze_till > 0):\n",
    "                for layer in model.layers[:-freeze_till]:\n",
    "                    model.trainable = False\n",
    "                    \n",
    "            # print(len(model.layers))\n",
    "            # print(\"hello there\")\n",
    "                    \n",
    "            flatten_in = tf.keras.layers.Flatten()(model.output)\n",
    "            prediction = tf.keras.layers.Dense(\n",
    "                units=classes,\n",
    "                activation=\"softmax\"\n",
    "            )(flatten_in)\n",
    "            \n",
    "            full_model = tf.keras.models.Model(\n",
    "                inputs=model.inputs,\n",
    "                outputs=prediction\n",
    "            )\n",
    "            \n",
    "            full_model.compile(\n",
    "                optimizer=tf.keras.optimizers.SGD(learning_rate=learning_rate),\n",
    "                loss=tf.keras.losses.CategoricalCrossentropy(),\n",
    "                metrics=[\"accuracy\"]\n",
    "            )\n",
    "            \n",
    "            full_model.summary()\n",
    "            \n",
    "            return full_model\n",
    "    \n",
    "    def update_base_model(self):\n",
    "        # newly added lines for getting basemodel\n",
    "        self.model = tf.keras.models.load_model(\n",
    "            self.config.base_model_path\n",
    "        )\n",
    "        \n",
    "        self.full_model = self._prepare_full_model(\n",
    "            model=self.model,\n",
    "            classes=self.config.params_classes,\n",
    "            freeze_all=True,\n",
    "            freeze_till=None,\n",
    "            learning_rate=self.config.params_learning_rate\n",
    "        )\n",
    "        \n",
    "        # self.save_model(path=self.config.updated_base_model_path,\n",
    "        #                 model=self.full_model)\n",
    "\n",
    "    @staticmethod\n",
    "    def save_model(path: Path, model: tf.keras.Model):\n",
    "        model.save(path)    \n",
    "    "
   ]
  },
  {
   "cell_type": "code",
   "execution_count": 9,
   "metadata": {},
   "outputs": [
    {
     "name": "stdout",
     "output_type": "stream",
     "text": [
      "[2022-09-23 16:24:25,529: INFO: common]: yaml file: configs/config.yaml loaded successfully\n",
      "[2022-09-23 16:24:25,632: INFO: common]: yaml file: params.yaml loaded successfully\n",
      "[2022-09-23 16:24:25,633: INFO: common]: created directory at: artifacts\n",
      "[2022-09-23 16:24:25,635: INFO: common]: created directory at: artifacts/prepare_base_model\n",
      "[2022-09-23 16:24:26,084: WARNING: hdf5_format]: No training configuration found in the save file, so the model was *not* compiled. Compile it manually.\n",
      "Model: \"model_1\"\n",
      "_________________________________________________________________\n",
      " Layer (type)                Output Shape              Param #   \n",
      "=================================================================\n",
      " input_1 (InputLayer)        [(None, 224, 224, 3)]     0         \n",
      "                                                                 \n",
      " block1_conv1 (Conv2D)       (None, 224, 224, 64)      1792      \n",
      "                                                                 \n",
      " block1_conv2 (Conv2D)       (None, 224, 224, 64)      36928     \n",
      "                                                                 \n",
      " block1_pool (MaxPooling2D)  (None, 112, 112, 64)      0         \n",
      "                                                                 \n",
      " block2_conv1 (Conv2D)       (None, 112, 112, 128)     73856     \n",
      "                                                                 \n",
      " block2_conv2 (Conv2D)       (None, 112, 112, 128)     147584    \n",
      "                                                                 \n",
      " block2_pool (MaxPooling2D)  (None, 56, 56, 128)       0         \n",
      "                                                                 \n",
      " block3_conv1 (Conv2D)       (None, 56, 56, 256)       295168    \n",
      "                                                                 \n",
      " block3_conv2 (Conv2D)       (None, 56, 56, 256)       590080    \n",
      "                                                                 \n",
      " block3_conv3 (Conv2D)       (None, 56, 56, 256)       590080    \n",
      "                                                                 \n",
      " block3_pool (MaxPooling2D)  (None, 28, 28, 256)       0         \n",
      "                                                                 \n",
      " block4_conv1 (Conv2D)       (None, 28, 28, 512)       1180160   \n",
      "                                                                 \n",
      " block4_conv2 (Conv2D)       (None, 28, 28, 512)       2359808   \n",
      "                                                                 \n",
      " block4_conv3 (Conv2D)       (None, 28, 28, 512)       2359808   \n",
      "                                                                 \n",
      " block4_pool (MaxPooling2D)  (None, 14, 14, 512)       0         \n",
      "                                                                 \n",
      " block5_conv1 (Conv2D)       (None, 14, 14, 512)       2359808   \n",
      "                                                                 \n",
      " block5_conv2 (Conv2D)       (None, 14, 14, 512)       2359808   \n",
      "                                                                 \n",
      " block5_conv3 (Conv2D)       (None, 14, 14, 512)       2359808   \n",
      "                                                                 \n",
      " block5_pool (MaxPooling2D)  (None, 7, 7, 512)         0         \n",
      "                                                                 \n",
      " flatten_1 (Flatten)         (None, 25088)             0         \n",
      "                                                                 \n",
      " dense_1 (Dense)             (None, 2)                 50178     \n",
      "                                                                 \n",
      "=================================================================\n",
      "Total params: 14,764,866\n",
      "Trainable params: 50,178\n",
      "Non-trainable params: 14,714,688\n",
      "_________________________________________________________________\n"
     ]
    }
   ],
   "source": [
    "config = ConfigurationManager()\n",
    "prepare_base_model_config = config.get_prepare_base_model()\n",
    "prepare_base_model = PrepareBaseModel(prepare_base_model_config=prepare_base_model_config)\n",
    "# prepare_base_model.get_base_model()\n",
    "prepare_base_model.update_base_model()\n"
   ]
  },
  {
   "cell_type": "code",
   "execution_count": 14,
   "metadata": {},
   "outputs": [],
   "source": [
    "prepare_base_model.full_model"
   ]
  },
  {
   "cell_type": "code",
   "execution_count": null,
   "metadata": {},
   "outputs": [],
   "source": [
    "# test code.\n",
    "\n",
    "class PrepareBaseModel:\n",
    "    def __init__(self, prepare_base_model_config: PrepareBaseModelConfig):\n",
    "        self.config = prepare_base_model_config\n",
    "        \n",
    "    def get_base_model(self):\n",
    "        self.model = tf.keras.applications.vgg16.VGG16(\n",
    "            include_top=self.config.params_include_top,\n",
    "            weights=self.config.params_weights,\n",
    "            # classes=self.config.params_classes\n",
    "        )\n",
    "        self.model.save() # save the model\n",
    "        \n",
    "    def update_base_model(\n",
    "        self, \n",
    "        model: tf.keras.models, \n",
    "        classes: int, \n",
    "        freeze_all: bool,\n",
    "        freeze_till: int):\n",
    "            if freeze_all:\n",
    "                for layer in model.layers:\n",
    "                    layer.trainable = False\n",
    "            elif (freeze_till is not None) and (freeze_till > 0):\n",
    "                for layer in model.layers[:-freeze_till]:\n",
    "                    layer.trainable = False\n",
    "            \n",
    "            flatten_in = tf.keras.layers.Flatten()(model.outputs)\n",
    "            prediction = tf.keras.layers.Dense(2, activation=\"categorical_crossentropy\")\n",
    "            tf.keras.models.Model()"
   ]
  },
  {
   "cell_type": "code",
   "execution_count": 42,
   "metadata": {},
   "outputs": [
    {
     "name": "stderr",
     "output_type": "stream",
     "text": [
      "2022-09-20 13:04:43.208873: W tensorflow/stream_executor/platform/default/dso_loader.cc:64] Could not load dynamic library 'libcuda.so.1'; dlerror: libcuda.so.1: cannot open shared object file: No such file or directory\n",
      "2022-09-20 13:04:43.239136: W tensorflow/stream_executor/cuda/cuda_driver.cc:263] failed call to cuInit: UNKNOWN ERROR (303)\n",
      "2022-09-20 13:04:43.239348: I tensorflow/stream_executor/cuda/cuda_diagnostics.cc:156] kernel driver does not appear to be running on this host (mobo): /proc/driver/nvidia/version does not exist\n"
     ]
    },
    {
     "name": "stdout",
     "output_type": "stream",
     "text": [
      "weights: 2\n",
      "trainable_weights: 2\n",
      "non_trainable_weights: 0\n"
     ]
    }
   ],
   "source": []
  },
  {
   "cell_type": "code",
   "execution_count": null,
   "metadata": {},
   "outputs": [],
   "source": []
  }
 ],
 "metadata": {
  "kernelspec": {
   "display_name": "Python 3.8.13",
   "language": "python",
   "name": "python3"
  },
  "language_info": {
   "codemirror_mode": {
    "name": "ipython",
    "version": 3
   },
   "file_extension": ".py",
   "mimetype": "text/x-python",
   "name": "python",
   "nbconvert_exporter": "python",
   "pygments_lexer": "ipython3",
   "version": "3.8.13"
  },
  "orig_nbformat": 4,
  "vscode": {
   "interpreter": {
    "hash": "96a6031be31f0d7c9fc2d8a013a54475f71a99c42d6982cfa7519663d837fdbe"
   }
  }
 },
 "nbformat": 4,
 "nbformat_minor": 2
}
