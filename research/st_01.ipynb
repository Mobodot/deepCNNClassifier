{
 "cells": [
  {
   "cell_type": "code",
   "execution_count": 1,
   "metadata": {},
   "outputs": [
    {
     "data": {
      "text/plain": [
       "'/home/mobo/Documents/Ineuron/Live_Class/DL/DL_live_notes/CNN/deepCNNClassifier'"
      ]
     },
     "execution_count": 1,
     "metadata": {},
     "output_type": "execute_result"
    }
   ],
   "source": [
    "import os\n",
    "\n",
    "os.getcwd()\n",
    "os.chdir(\"../\")\n",
    "os.getcwd()"
   ]
  },
  {
   "cell_type": "code",
   "execution_count": 18,
   "metadata": {},
   "outputs": [],
   "source": [
    "from deepClassifier.constants import *\n",
    "from deepClassifier import logger"
   ]
  },
  {
   "cell_type": "code",
   "execution_count": 3,
   "metadata": {},
   "outputs": [],
   "source": [
    "from deepClassifier.utils import read_yaml, create_directories"
   ]
  },
  {
   "cell_type": "code",
   "execution_count": 4,
   "metadata": {},
   "outputs": [],
   "source": [
    "from ensure import ensure_annotations"
   ]
  },
  {
   "cell_type": "code",
   "execution_count": 4,
   "metadata": {},
   "outputs": [
    {
     "data": {
      "text/plain": [
       "{'artifact_root': 'artifacts',\n",
       " 'data_ingestion': {'root_dir': 'artifact_root/data_ingestion',\n",
       "  'source_dir': 'https://download.microsoft.com/download/3/E/1/3E1C3F21-ECDB-4869-8368-6DEBA77B919F/kagglecatsanddogs_5340.zip',\n",
       "  'local_data_dir': 'artifacts/data_ingestion/data.zip',\n",
       "  'unzipped_dir': 'artifacts/data_ingestion'}}"
      ]
     },
     "execution_count": 4,
     "metadata": {},
     "output_type": "execute_result"
    }
   ],
   "source": [
    "read_yaml(\"configs/config.yaml\")"
   ]
  },
  {
   "cell_type": "code",
   "execution_count": 71,
   "metadata": {},
   "outputs": [],
   "source": [
    "import sys\n",
    "\n",
    "class DeepClassifierException(Exception):\n",
    "    def __init__(\n",
    "        self, \n",
    "        error_message: Exception,\n",
    "        error_detail: sys\n",
    "        ):\n",
    "        \n",
    "        # super(DeepClassifierException, self).__init__(error_message)\n",
    "        self.error_message = \\\n",
    "            DeepClassifierException.get_detailed_error_message(\n",
    "                error_message=error_message,\n",
    "                error_detail=error_detail\n",
    "            )\n",
    "        super(DeepClassifierException, self).__init__(self.error_message)\n",
    "        \n",
    "        \n",
    "        \n",
    "    @staticmethod\n",
    "    def get_detailed_error_message(error_message: Exception,\n",
    "                                   error_detail: sys):\n",
    "        _, _, exec_tb = error_detail.exc_info()\n",
    "        exception_line_no = exec_tb.tb_frame.f_lineno\n",
    "        try_block_no = exec_tb.tb_lineno\n",
    "        file_name = exec_tb.tb_frame.f_code.co_filename\n",
    "        print(file_name, try_block_no, exception_line_no)\n",
    "        error_message = f\"\"\"\n",
    "        Error occured in script:\n",
    "        [{file_name}]\n",
    "        raised by line: [{exception_line_no}]\n",
    "        on line: [{try_block_no}]\n",
    "        \"\"\"\n",
    "        return error_message\n",
    "    \n",
    "\n",
    "\n",
    "    \n",
    "# a,b = 2, 0\n",
    "\n",
    "# try:\n",
    "#     if b == 0: from e\n",
    "#         raise Exception(\"can not divide this!\")\n",
    "# except Exception as e:\n",
    "#     _, _, exec_tb = sys.exc_info()\n",
    "#     exception_line_no = exec_tb.tb_frame.f_lineno\n",
    "#     try_block_no = exec_tb.tb_lineno\n",
    "#     file_name = exec_tb.tb_frame.f_code.co_filename\n",
    "#     print(file_name, try_block_no, exception_line_no)\n",
    "#     error_message = f\"\"\"\n",
    "#     Error occured in script:\n",
    "#     [{file_name}]\n",
    "#     raised by line: [{exception_line_no}]\n",
    "#     on line: [{try_block_no}]\n",
    "#     \"\"\"\n",
    "#     print(error_message)\n",
    "\n"
   ]
  },
  {
   "cell_type": "code",
   "execution_count": 72,
   "metadata": {},
   "outputs": [],
   "source": [
    "def div(a,b):\n",
    "\n",
    "    try:\n",
    "        if b == 0:\n",
    "            # raise Exception as e\n",
    "        \n",
    "            return a/b\n",
    "    except Exception as e:\n",
    "        raise DeepClassifierException(e, sys) from e"
   ]
  },
  {
   "cell_type": "code",
   "execution_count": 73,
   "metadata": {},
   "outputs": [
    {
     "name": "stdout",
     "output_type": "stream",
     "text": [
      "/tmp/ipykernel_88077/1023788321.py 7 9\n"
     ]
    },
    {
     "ename": "DeepClassifierException",
     "evalue": "\n        Error occured in script:\n        [/tmp/ipykernel_88077/1023788321.py]\n        raised by line: [9]\n        on line: [7]\n        ",
     "output_type": "error",
     "traceback": [
      "\u001b[0;31m---------------------------------------------------------------------------\u001b[0m",
      "\u001b[0;31mZeroDivisionError\u001b[0m                         Traceback (most recent call last)",
      "Cell \u001b[0;32mIn [72], line 7\u001b[0m, in \u001b[0;36mdiv\u001b[0;34m(a, b)\u001b[0m\n\u001b[1;32m      4\u001b[0m     \u001b[38;5;28;01mif\u001b[39;00m b \u001b[38;5;241m==\u001b[39m \u001b[38;5;241m0\u001b[39m:\n\u001b[1;32m      5\u001b[0m         \u001b[38;5;66;03m# raise Exception as e\u001b[39;00m\n\u001b[0;32m----> 7\u001b[0m         \u001b[38;5;28;01mreturn\u001b[39;00m \u001b[43ma\u001b[49m\u001b[38;5;241;43m/\u001b[39;49m\u001b[43mb\u001b[49m\n\u001b[1;32m      8\u001b[0m \u001b[38;5;28;01mexcept\u001b[39;00m \u001b[38;5;167;01mException\u001b[39;00m \u001b[38;5;28;01mas\u001b[39;00m e:\n",
      "\u001b[0;31mZeroDivisionError\u001b[0m: division by zero",
      "\nThe above exception was the direct cause of the following exception:\n",
      "\u001b[0;31mDeepClassifierException\u001b[0m                   Traceback (most recent call last)",
      "Cell \u001b[0;32mIn [73], line 1\u001b[0m\n\u001b[0;32m----> 1\u001b[0m \u001b[43mdiv\u001b[49m\u001b[43m(\u001b[49m\u001b[38;5;241;43m2\u001b[39;49m\u001b[43m,\u001b[49m\u001b[38;5;241;43m0\u001b[39;49m\u001b[43m)\u001b[49m\n",
      "Cell \u001b[0;32mIn [72], line 9\u001b[0m, in \u001b[0;36mdiv\u001b[0;34m(a, b)\u001b[0m\n\u001b[1;32m      7\u001b[0m         \u001b[38;5;28;01mreturn\u001b[39;00m a\u001b[38;5;241m/\u001b[39mb\n\u001b[1;32m      8\u001b[0m \u001b[38;5;28;01mexcept\u001b[39;00m \u001b[38;5;167;01mException\u001b[39;00m \u001b[38;5;28;01mas\u001b[39;00m e:\n\u001b[0;32m----> 9\u001b[0m     \u001b[38;5;28;01mraise\u001b[39;00m DeepClassifierException(e, sys) \u001b[38;5;28;01mfrom\u001b[39;00m \u001b[38;5;21;01me\u001b[39;00m\n",
      "\u001b[0;31mDeepClassifierException\u001b[0m: \n        Error occured in script:\n        [/tmp/ipykernel_88077/1023788321.py]\n        raised by line: [9]\n        on line: [7]\n        "
     ]
    }
   ],
   "source": [
    "div(2,0)"
   ]
  },
  {
   "cell_type": "code",
   "execution_count": 14,
   "metadata": {},
   "outputs": [],
   "source": [
    "from collections import namedtuple\n",
    "\n",
    "DataIngestionConfig = namedtuple(\"DataIngestionConfig\", [\n",
    "    \"root_dir\",\n",
    "    \"source_dir\",\n",
    "    \"local_data_dir\",\n",
    "    \"unzipped_dir\"\n",
    "])"
   ]
  },
  {
   "cell_type": "code",
   "execution_count": 38,
   "metadata": {},
   "outputs": [],
   "source": [
    "## solution without ConfigBox\n",
    "\n",
    "\n",
    "class ConfigurationManager:\n",
    "    \n",
    "    # @ensure_annotations\n",
    "    def __init__(\n",
    "        self, \n",
    "        config_filepath: str=CONFIG_FILE_PATH,\n",
    "        params_filepath: str=PARAMS_FILE_PATH) -> None:\n",
    "        self.config_details = read_yaml(config_filepath)\n",
    "        self.params_details = read_yaml(params_filepath)\n",
    "        self.artifact_root = self.config_details[\"artifact_root\"]\n",
    "        \n",
    "    @ensure_annotations\n",
    "    def data_ingestion_config(self) -> DataIngestionConfig:\n",
    "        root_dir = self.config_details[\"data_ingestion\"][\"root_dir\"]\n",
    "        source_dir = self.config_details[\"data_ingestion\"][\"source_dir\"]\n",
    "        local_data_dir = self.config_details[\"data_ingestion\"][\"local_data_dir\"]\n",
    "        unzipped_dir = self.config_details[\"data_ingestion\"][\"unzipped_dir\"]\n",
    "        \n",
    "        data_ingestion_config = DataIngestionConfig(\n",
    "            root_dir=root_dir,\n",
    "            source_dir=source_dir,\n",
    "            local_data_dir=local_data_dir,\n",
    "            unzipped_dir=unzipped_dir\n",
    "        )\n",
    "        \n",
    "        return data_ingestion_config\n",
    "        "
   ]
  },
  {
   "cell_type": "code",
   "execution_count": 40,
   "metadata": {},
   "outputs": [
    {
     "data": {
      "text/plain": [
       "DataIngestionConfig(root_dir='artifact_root/data_ingestion', source_dir='https://download.microsoft.com/download/3/E/1/3E1C3F21-ECDB-4869-8368-6DEBA77B919F/kagglecatsanddogs_5340.zip', local_data_dir='artifacts/data_ingestion/data.zip', unzipped_dir='artifacts/data_ingestion')"
      ]
     },
     "execution_count": 40,
     "metadata": {},
     "output_type": "execute_result"
    }
   ],
   "source": [
    "config = ConfigurationManager(config_filepath=CONFIG_FILE_PATH)\n",
    "config.data_ingestion_config()"
   ]
  },
  {
   "cell_type": "code",
   "execution_count": 26,
   "metadata": {},
   "outputs": [],
   "source": [
    "# solution with ConfigBox\n",
    "\n",
    "from box import ConfigBox\n",
    "\n",
    "class ConfigurationManager:\n",
    "    \n",
    "    def __init__(\n",
    "        self, \n",
    "        config_file_path=CONFIG_FILE_PATH, \n",
    "        params_file_path=PARAMS_FILE_PATH):\n",
    "        self.config_file_path = ConfigBox(read_yaml(config_file_path))\n",
    "        self.artifacts = self.config_file_path.artifact_root\n",
    "        # self.params_file_path = ConfigBox(read_yaml(params_file_path))\n",
    "        \n",
    "    def data_ingestion_config(self) -> DataIngestionConfig:\n",
    "        try:\n",
    "            data_ingestion = self.config_file_path.data_ingestion\n",
    "            root_dir = data_ingestion.root_dir\n",
    "            source_dir = data_ingestion.source_dir\n",
    "            local_data_dir = data_ingestion.local_data_dir\n",
    "            unzipped_dir = data_ingestion.unzipped_dir\n",
    "            \n",
    "            data_ingestion_config = DataIngestionConfig(\n",
    "                root_dir=root_dir,\n",
    "                source_dir=source_dir,\n",
    "                local_data_dir=local_data_dir,\n",
    "                unzipped_dir=unzipped_dir\n",
    "            )\n",
    "            logger.info(f\"DataIngestionConfig setup: \\n{data_ingestion_config}\")\n",
    "            return data_ingestion_config\n",
    "        \n",
    "        except Exception as e:\n",
    "            raise e\n",
    "        "
   ]
  },
  {
   "cell_type": "code",
   "execution_count": 27,
   "metadata": {},
   "outputs": [
    {
     "name": "stdout",
     "output_type": "stream",
     "text": [
      "[2022-09-16 10:35:30,871: INFO: common]: yaml file: configs/config.yaml loaded successfully\n",
      "[2022-09-16 10:35:30,954: INFO: 480393586]: DataIngestionConfig setup: \n",
      "DataIngestionConfig(root_dir='artifact_root/data_ingestion', source_dir='https://download.microsoft.com/download/3/E/1/3E1C3F21-ECDB-4869-8368-6DEBA77B919F/kagglecatsanddogs_5340.zip', local_data_dir='artifacts/data_ingestion/data.zip', unzipped_dir='artifacts/data_ingestion')\n"
     ]
    },
    {
     "data": {
      "text/plain": [
       "DataIngestionConfig(root_dir='artifact_root/data_ingestion', source_dir='https://download.microsoft.com/download/3/E/1/3E1C3F21-ECDB-4869-8368-6DEBA77B919F/kagglecatsanddogs_5340.zip', local_data_dir='artifacts/data_ingestion/data.zip', unzipped_dir='artifacts/data_ingestion')"
      ]
     },
     "execution_count": 27,
     "metadata": {},
     "output_type": "execute_result"
    }
   ],
   "source": [
    "config = ConfigurationManager()\n",
    "config.data_ingestion_config()"
   ]
  },
  {
   "cell_type": "code",
   "execution_count": 20,
   "metadata": {},
   "outputs": [],
   "source": [
    "class Person:\n",
    "    def __init__(self, name: str) -> None:\n",
    "        self.name = name\n",
    "        \n",
    "    @staticmethod\n",
    "    def age(age: int) -> str:\n",
    "        return f\"your age is: {age}\"\n",
    "    \n",
    "    def __str__(self) -> str:\n",
    "        return f\"'{self.name}'\"\n",
    "    \n",
    "    def __repr__(self) -> str:\n",
    "        return f\"Person(name='{self.name}')\""
   ]
  },
  {
   "cell_type": "code",
   "execution_count": 21,
   "metadata": {},
   "outputs": [
    {
     "name": "stdout",
     "output_type": "stream",
     "text": [
      "'paul'\n"
     ]
    }
   ],
   "source": [
    "p = Person(\"paul\")\n",
    "p.age(20)\n",
    "print(p)"
   ]
  },
  {
   "cell_type": "code",
   "execution_count": null,
   "metadata": {},
   "outputs": [],
   "source": []
  }
 ],
 "metadata": {
  "kernelspec": {
   "display_name": "Python 3.8.13 (conda)",
   "language": "python",
   "name": "python3"
  },
  "language_info": {
   "codemirror_mode": {
    "name": "ipython",
    "version": 3
   },
   "file_extension": ".py",
   "mimetype": "text/x-python",
   "name": "python",
   "nbconvert_exporter": "python",
   "pygments_lexer": "ipython3",
   "version": "3.8.13"
  },
  "orig_nbformat": 4,
  "vscode": {
   "interpreter": {
    "hash": "96a6031be31f0d7c9fc2d8a013a54475f71a99c42d6982cfa7519663d837fdbe"
   }
  }
 },
 "nbformat": 4,
 "nbformat_minor": 2
}
