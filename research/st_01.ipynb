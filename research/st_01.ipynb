{
 "cells": [
  {
   "cell_type": "code",
   "execution_count": 1,
   "metadata": {},
   "outputs": [
    {
     "data": {
      "text/plain": [
       "'/home/mobo/Documents/Ineuron/Live_Class/DL/DL_live_notes/CNN/deepCNNClassifier'"
      ]
     },
     "execution_count": 1,
     "metadata": {},
     "output_type": "execute_result"
    }
   ],
   "source": [
    "import os\n",
    "\n",
    "os.getcwd()\n",
    "os.chdir(\"../\")\n",
    "os.getcwd()"
   ]
  },
  {
   "cell_type": "code",
   "execution_count": 2,
   "metadata": {},
   "outputs": [],
   "source": [
    "from deepClassifier.constants import *\n",
    "from deepClassifier import logger\n",
    "from pathlib import Path"
   ]
  },
  {
   "cell_type": "code",
   "execution_count": 3,
   "metadata": {},
   "outputs": [],
   "source": [
    "from deepClassifier.utils import read_yaml, create_directories"
   ]
  },
  {
   "cell_type": "code",
   "execution_count": 4,
   "metadata": {},
   "outputs": [],
   "source": [
    "from ensure import ensure_annotations"
   ]
  },
  {
   "cell_type": "code",
   "execution_count": 5,
   "metadata": {},
   "outputs": [
    {
     "name": "stdout",
     "output_type": "stream",
     "text": [
      "[2022-09-19 13:29:33,167: INFO: common]: yaml file: configs/config.yaml loaded successfully\n"
     ]
    },
    {
     "data": {
      "text/plain": [
       "ConfigBox({'artifacts_root': 'artifacts', 'data_ingestion': {'root_dir': 'artifacts/data_ingestion', 'source_url': 'https://download.microsoft.com/download/3/E/1/3E1C3F21-ECDB-4869-8368-6DEBA77B919F/kagglecatsanddogs_5340.zip', 'local_data_file': 'artifacts/data_ingestion/data.zip', 'unzipped_dir': 'artifacts/data_ingestion'}})"
      ]
     },
     "execution_count": 5,
     "metadata": {},
     "output_type": "execute_result"
    }
   ],
   "source": [
    "read_yaml(Path(\"configs/config.yaml\"))"
   ]
  },
  {
   "cell_type": "code",
   "execution_count": 6,
   "metadata": {},
   "outputs": [],
   "source": [
    "import sys\n",
    "\n",
    "class DeepClassifierException(Exception):\n",
    "    def __init__(\n",
    "        self, \n",
    "        error_message: Exception,\n",
    "        error_detail: sys\n",
    "        ):\n",
    "        \n",
    "        # super(DeepClassifierException, self).__init__(error_message)\n",
    "        self.error_message = \\\n",
    "            DeepClassifierException.get_detailed_error_message(\n",
    "                error_message=error_message,\n",
    "                error_detail=error_detail\n",
    "            )\n",
    "        super(DeepClassifierException, self).__init__(self.error_message)\n",
    "        \n",
    "        \n",
    "        \n",
    "    @staticmethod\n",
    "    def get_detailed_error_message(error_message: Exception,\n",
    "                                   error_detail: sys):\n",
    "        _, _, exec_tb = error_detail.exc_info()\n",
    "        exception_line_no = exec_tb.tb_frame.f_lineno\n",
    "        try_block_no = exec_tb.tb_lineno\n",
    "        file_name = exec_tb.tb_frame.f_code.co_filename\n",
    "        print(file_name, try_block_no, exception_line_no)\n",
    "        error_message = f\"\"\"\n",
    "        Error occured in script:\n",
    "        [{file_name}]\n",
    "        raised by line: [{exception_line_no}]\n",
    "        on line: [{try_block_no}]\n",
    "        \"\"\"\n",
    "        return error_message\n",
    "    \n"
   ]
  },
  {
   "cell_type": "code",
   "execution_count": 7,
   "metadata": {},
   "outputs": [],
   "source": [
    "from collections import namedtuple\n",
    "\n",
    "DataIngestionConfig = namedtuple(\"DataIngestionConfig\", [\n",
    "    \"root_dir\",\n",
    "    \"source_urr\",\n",
    "    \"local_data_file\",\n",
    "    \"unzipped_dir\"\n",
    "])"
   ]
  },
  {
   "cell_type": "code",
   "execution_count": 8,
   "metadata": {},
   "outputs": [],
   "source": [
    "# alternative to namedtuple\n",
    "\n",
    "from dataclasses import dataclass\n",
    "\n",
    "\n",
    "@dataclass\n",
    "class DataIngestionConfig:\n",
    "    root_dir: Path\n",
    "    source_url: Path\n",
    "    local_data_file: Path\n",
    "    unzipped_dir: Path\n",
    "    "
   ]
  },
  {
   "cell_type": "code",
   "execution_count": 9,
   "metadata": {},
   "outputs": [],
   "source": [
    "## solution without ConfigBox\n",
    "\n",
    "\n",
    "class ConfigurationManager:\n",
    "    \n",
    "    # @ensure_annotations\n",
    "    def __init__(\n",
    "        self, \n",
    "        config_filepath: str=CONFIG_FILE_PATH,\n",
    "        params_filepath: str=PARAMS_FILE_PATH) -> None:\n",
    "        self.config_details = read_yaml(config_filepath)\n",
    "        self.params_details = read_yaml(params_filepath)\n",
    "        self.artifact_roots = self.config_details[\"artifacts_root\"]\n",
    "        \n",
    "    @ensure_annotations\n",
    "    def data_ingestion_config(self) -> DataIngestionConfig:\n",
    "        root_dir = self.config_details[\"data_ingestion\"][\"root_dir\"]\n",
    "        source_url = self.config_details[\"data_ingestion\"][\"source_url\"]\n",
    "        local_data_file = self.config_details[\"data_ingestion\"][\"local_data_file\"]\n",
    "        unzipped_dir = self.config_details[\"data_ingestion\"][\"unzipped_dir\"]\n",
    "        \n",
    "        data_ingestion_config = DataIngestionConfig(\n",
    "            root_dir=root_dir,\n",
    "            source_url=source_url,\n",
    "            local_data_file=local_data_file,\n",
    "            unzipped_dir=unzipped_dir\n",
    "        )\n",
    "        \n",
    "        return data_ingestion_config\n",
    "        "
   ]
  },
  {
   "cell_type": "code",
   "execution_count": 10,
   "metadata": {},
   "outputs": [
    {
     "name": "stdout",
     "output_type": "stream",
     "text": [
      "[2022-09-19 13:29:34,559: INFO: common]: yaml file: configs/config.yaml loaded successfully\n",
      "[2022-09-19 13:29:34,561: INFO: common]: yaml file: params.yaml loaded successfully\n"
     ]
    },
    {
     "data": {
      "text/plain": [
       "DataIngestionConfig(root_dir='artifacts/data_ingestion', source_url='https://download.microsoft.com/download/3/E/1/3E1C3F21-ECDB-4869-8368-6DEBA77B919F/kagglecatsanddogs_5340.zip', local_data_file='artifacts/data_ingestion/data.zip', unzipped_dir='artifacts/data_ingestion')"
      ]
     },
     "execution_count": 10,
     "metadata": {},
     "output_type": "execute_result"
    }
   ],
   "source": [
    "config = ConfigurationManager(config_filepath=CONFIG_FILE_PATH)\n",
    "config.data_ingestion_config()"
   ]
  },
  {
   "cell_type": "code",
   "execution_count": 11,
   "metadata": {},
   "outputs": [],
   "source": [
    "# solution with ConfigBox\n",
    "\n",
    "from box import ConfigBox\n",
    "\n",
    "class ConfigurationManager:\n",
    "    \n",
    "    def __init__(\n",
    "        self, \n",
    "        config_file_path=CONFIG_FILE_PATH, \n",
    "        params_file_path=PARAMS_FILE_PATH):\n",
    "        self.config_file_path = ConfigBox(read_yaml(config_file_path))\n",
    "        self.artifacts = self.config_file_path.artifacts_root\n",
    "        # self.params_file_path = ConfigBox(read_yaml(params_file_path))\n",
    "        \n",
    "    def data_ingestion_config(self) -> DataIngestionConfig:\n",
    "        try:\n",
    "            data_ingestion = self.config_file_path.data_ingestion\n",
    "            root_dir = data_ingestion.root_dir\n",
    "            source_url = data_ingestion.source_url\n",
    "            local_data_file = data_ingestion.local_data_file\n",
    "            unzipped_dir = data_ingestion.unzipped_dir\n",
    "            \n",
    "            data_ingestion_config = DataIngestionConfig(\n",
    "                root_dir=root_dir,\n",
    "                source_url=source_url,\n",
    "                local_data_file=local_data_file,\n",
    "                unzipped_dir=unzipped_dir\n",
    "            )\n",
    "            logger.info(f\"DataIngestionConfig setup: \\n{data_ingestion_config}\")\n",
    "            return data_ingestion_config\n",
    "        \n",
    "        except Exception as e:\n",
    "            raise e\n",
    "        "
   ]
  },
  {
   "cell_type": "code",
   "execution_count": 12,
   "metadata": {},
   "outputs": [
    {
     "name": "stdout",
     "output_type": "stream",
     "text": [
      "[2022-09-19 13:29:35,103: INFO: common]: yaml file: configs/config.yaml loaded successfully\n",
      "[2022-09-19 13:29:35,105: INFO: 3825945991]: DataIngestionConfig setup: \n",
      "DataIngestionConfig(root_dir='artifacts/data_ingestion', source_url='https://download.microsoft.com/download/3/E/1/3E1C3F21-ECDB-4869-8368-6DEBA77B919F/kagglecatsanddogs_5340.zip', local_data_file='artifacts/data_ingestion/data.zip', unzipped_dir='artifacts/data_ingestion')\n"
     ]
    },
    {
     "data": {
      "text/plain": [
       "DataIngestionConfig(root_dir='artifacts/data_ingestion', source_url='https://download.microsoft.com/download/3/E/1/3E1C3F21-ECDB-4869-8368-6DEBA77B919F/kagglecatsanddogs_5340.zip', local_data_file='artifacts/data_ingestion/data.zip', unzipped_dir='artifacts/data_ingestion')"
      ]
     },
     "execution_count": 12,
     "metadata": {},
     "output_type": "execute_result"
    }
   ],
   "source": [
    "config = ConfigurationManager()\n",
    "config.data_ingestion_config()"
   ]
  },
  {
   "cell_type": "code",
   "execution_count": 13,
   "metadata": {},
   "outputs": [],
   "source": [
    "class Person:\n",
    "    def __init__(self, name: str) -> None:\n",
    "        self.name = name\n",
    "        \n",
    "    @staticmethod\n",
    "    def age(age: int) -> str:\n",
    "        return f\"your age is: {age}\"\n",
    "    \n",
    "    def __str__(self) -> str:\n",
    "        return f\"'{self.name}'\"\n",
    "    \n",
    "    def __repr__(self) -> str:\n",
    "        return f\"Person(name='{self.name}')\""
   ]
  },
  {
   "cell_type": "code",
   "execution_count": 14,
   "metadata": {},
   "outputs": [
    {
     "name": "stdout",
     "output_type": "stream",
     "text": [
      "'paul'\n"
     ]
    }
   ],
   "source": [
    "p = Person(\"paul\")\n",
    "p.age(20)\n",
    "print(p)"
   ]
  },
  {
   "cell_type": "code",
   "execution_count": null,
   "metadata": {},
   "outputs": [],
   "source": []
  }
 ],
 "metadata": {
  "kernelspec": {
   "display_name": "Python 3.8.13 (conda)",
   "language": "python",
   "name": "python3"
  },
  "language_info": {
   "codemirror_mode": {
    "name": "ipython",
    "version": 3
   },
   "file_extension": ".py",
   "mimetype": "text/x-python",
   "name": "python",
   "nbconvert_exporter": "python",
   "pygments_lexer": "ipython3",
   "version": "3.8.13"
  },
  "orig_nbformat": 4,
  "vscode": {
   "interpreter": {
    "hash": "96a6031be31f0d7c9fc2d8a013a54475f71a99c42d6982cfa7519663d837fdbe"
   }
  }
 },
 "nbformat": 4,
 "nbformat_minor": 2
}
