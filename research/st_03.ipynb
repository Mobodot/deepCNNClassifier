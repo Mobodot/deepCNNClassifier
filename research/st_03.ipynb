{
 "cells": [
  {
   "cell_type": "code",
   "execution_count": 4,
   "metadata": {},
   "outputs": [
    {
     "name": "stdout",
     "output_type": "stream",
     "text": [
      "/home/mobo/Documents/Ineuron/Live_Class/DL/DL_live_notes/CNN/deepCNNClassifier/research\n"
     ]
    },
    {
     "data": {
      "text/plain": [
       "'/home/mobo/Documents/Ineuron/Live_Class/DL/DL_live_notes/CNN/deepCNNClassifier'"
      ]
     },
     "execution_count": 4,
     "metadata": {},
     "output_type": "execute_result"
    }
   ],
   "source": [
    "import os\n",
    "print(os.getcwd())\n",
    "os.chdir(\"../\")\n",
    "os.getcwd()"
   ]
  },
  {
   "cell_type": "code",
   "execution_count": 1,
   "metadata": {},
   "outputs": [],
   "source": [
    "from dataclasses import dataclass\n",
    "from pathlib import Path\n",
    "\n",
    "\n",
    "@dataclass(frozen=True)\n",
    "class PrepareCallbackConfig:\n",
    "    root_dir: Path\n",
    "    tensorboard_root_log_dir: Path\n",
    "    checkpoint_model_filepath: Path"
   ]
  },
  {
   "cell_type": "code",
   "execution_count": 2,
   "metadata": {},
   "outputs": [],
   "source": [
    "from deepClassifier.constants import (CONFIG_FILE_PATH,\n",
    "                                      PARAMS_FILE_PATH)\n",
    "from deepClassifier.utils import create_directories, read_yaml\n",
    "\n",
    "\n",
    "class ConfigurationManager:\n",
    "    \n",
    "    def __init__(self,\n",
    "                 config_filepath: Path=CONFIG_FILE_PATH,\n",
    "                 params_filepath: Path=PARAMS_FILE_PATH\n",
    "                 ):\n",
    "        self.config = read_yaml(config_filepath)\n",
    "        self.params = read_yaml(params_filepath)\n",
    "        \n",
    "        create_directories([self.config.artifacts_root])\n",
    "        \n",
    "    def get_prepare_callbacks_config(self) -> PrepareCallbackConfig:\n",
    "        config = self.config.prepare_callbacks\n",
    "        \n",
    "        create_directories([config.root_dir,\n",
    "                            config.tensorboard_root_log_dir,\n",
    "                            config.checkpoint_model_filepath])\n",
    "        \n",
    "        return PrepareCallbackConfig(\n",
    "            root_dir=config.root_dir,\n",
    "            tensorboard_root_log_dir=config.tensorboard_root_log_dir,\n",
    "            checkpoint_model_filepath=config.checkpoint_model_filepath\n",
    "        )"
   ]
  },
  {
   "cell_type": "code",
   "execution_count": 32,
   "metadata": {},
   "outputs": [],
   "source": [
    "import tensorflow as tf\n",
    "from typing import List\n",
    "import time\n",
    "\n",
    "\n",
    "class PrepareCallbacks:\n",
    "    \n",
    "    def __init__(self, \n",
    "                 prepare_callback_config: PrepareCallbackConfig):\n",
    "        self.config = prepare_callback_config\n",
    "    \n",
    "    @property\n",
    "    def _prepare_tb_callback(self) -> tf.keras.callbacks.TensorBoard:\n",
    "        timestamp = time.strftime(\"%Y-%m-%d-%H-%M-%S\")\n",
    "        tensorboard_root_log_dir = os.path.join(\n",
    "            self.config.tensorboard_root_log_dir,\n",
    "            f\"tb_logs_at_{timestamp}\"\n",
    "        )\n",
    "        \n",
    "        return tf.keras.callbacks.TensorBoard(\n",
    "            log_dir=tensorboard_root_log_dir\n",
    "        )\n",
    "    \n",
    "    @property\n",
    "    def _prepare_ckpt_callback(self) -> tf.keras.callbacks.ModelCheckpoint:\n",
    "        return tf.keras.callbacks.ModelCheckpoint(\n",
    "            filepath=self.config.checkpoint_model_filepath,\n",
    "            save_best_only=True\n",
    "        )\n",
    "        \n",
    "    def get_tb_ckpt_callbacks(self) -> List:\n",
    "        return [\n",
    "            self._prepare_tb_callback,\n",
    "            self._prepare_ckpt_callback\n",
    "            ]\n",
    "        "
   ]
  },
  {
   "cell_type": "code",
   "execution_count": 33,
   "metadata": {},
   "outputs": [
    {
     "name": "stdout",
     "output_type": "stream",
     "text": [
      "[2022-09-22 12:46:12,132: INFO: common]: yaml file: configs/config.yaml loaded successfully\n",
      "[2022-09-22 12:46:12,136: INFO: common]: yaml file: params.yaml loaded successfully\n",
      "[2022-09-22 12:46:12,138: INFO: common]: created directory at: artifacts\n",
      "[2022-09-22 12:46:12,140: INFO: common]: created directory at: artifacts/prepare_callbacks\n",
      "[2022-09-22 12:46:12,143: INFO: common]: created directory at: artifacts/prepare_callbacks/tensorboard_log_dir\n",
      "[2022-09-22 12:46:12,144: INFO: common]: created directory at: artifacts/prepare_callbacks/checkpoint_model_filepath\n"
     ]
    },
    {
     "data": {
      "text/plain": [
       "[<keras.callbacks.TensorBoard at 0x7f37a8443280>,\n",
       " <keras.callbacks.ModelCheckpoint at 0x7f37a81043a0>]"
      ]
     },
     "execution_count": 33,
     "metadata": {},
     "output_type": "execute_result"
    }
   ],
   "source": [
    "config = ConfigurationManager()\n",
    "prepare_callback_config=config.get_prepare_callbacks_config()\n",
    "callbacks = PrepareCallbacks(\n",
    "    prepare_callback_config=prepare_callback_config\n",
    ")\n",
    "callbacks.get_tb_ckpt_callbacks()"
   ]
  },
  {
   "cell_type": "code",
   "execution_count": null,
   "metadata": {},
   "outputs": [],
   "source": []
  }
 ],
 "metadata": {
  "kernelspec": {
   "display_name": "Python 3.8.13 (conda)",
   "language": "python",
   "name": "python3"
  },
  "language_info": {
   "codemirror_mode": {
    "name": "ipython",
    "version": 3
   },
   "file_extension": ".py",
   "mimetype": "text/x-python",
   "name": "python",
   "nbconvert_exporter": "python",
   "pygments_lexer": "ipython3",
   "version": "3.8.13"
  },
  "orig_nbformat": 4,
  "vscode": {
   "interpreter": {
    "hash": "96a6031be31f0d7c9fc2d8a013a54475f71a99c42d6982cfa7519663d837fdbe"
   }
  }
 },
 "nbformat": 4,
 "nbformat_minor": 2
}
